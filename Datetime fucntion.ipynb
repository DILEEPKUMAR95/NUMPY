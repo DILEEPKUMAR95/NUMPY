{
 "cells": [
  {
   "cell_type": "markdown",
   "id": "e1be0146",
   "metadata": {},
   "source": [
    "### Python has a built-in datetime module that provides classes for working with dates and times. Here are some of the commonly used functions and classes in the datetime module:"
   ]
  },
  {
   "cell_type": "code",
   "execution_count": 1,
   "id": "4453de66",
   "metadata": {},
   "outputs": [],
   "source": [
    "import datetime"
   ]
  },
  {
   "cell_type": "markdown",
   "id": "6dc52c71",
   "metadata": {},
   "source": [
    "#### datetime.date(year, month, day): This class represents a date (year, month, day) and provides methods for working with dates. Here's an example:"
   ]
  },
  {
   "cell_type": "code",
   "execution_count": 2,
   "id": "e2aae8c7",
   "metadata": {},
   "outputs": [
    {
     "name": "stdout",
     "output_type": "stream",
     "text": [
      "2023\n",
      "4\n",
      "19\n"
     ]
    }
   ],
   "source": [
    "d = datetime.date(2023, 4, 19)\n",
    "print(d.year)  # Output: 2023\n",
    "print(d.month) # Output: 4\n",
    "print(d.day)   # Output: 19"
   ]
  },
  {
   "cell_type": "markdown",
   "id": "d97e08c5",
   "metadata": {},
   "source": [
    "#### datetime.datetime(year, month, day, hour=0, minute=0, second=0, microsecond=0): This class represents a date and time (year, month, day, hour, minute, second, microsecond) and provides methods for working with dates and times. Here's an example:"
   ]
  },
  {
   "cell_type": "code",
   "execution_count": 3,
   "id": "45104ffd",
   "metadata": {},
   "outputs": [
    {
     "name": "stdout",
     "output_type": "stream",
     "text": [
      "2023\n",
      "4\n",
      "19\n",
      "15\n",
      "30\n",
      "0\n",
      "0\n"
     ]
    }
   ],
   "source": [
    "dt = datetime.datetime(2023, 4, 19, 15, 30, 0, 0)\n",
    "print(dt.year)       # Output: 2023\n",
    "print(dt.month)      # Output: 4\n",
    "print(dt.day)        # Output: 19\n",
    "print(dt.hour)       # Output: 15\n",
    "print(dt.minute)     # Output: 30\n",
    "print(dt.second)     # Output: 0\n",
    "print(dt.microsecond)# Output: 0"
   ]
  },
  {
   "cell_type": "markdown",
   "id": "d30ba8a5",
   "metadata": {},
   "source": [
    "#### datetime.datetime.now(): This method returns the current date and time as a datetime object. Here's an example:"
   ]
  },
  {
   "cell_type": "code",
   "execution_count": 4,
   "id": "b3344683",
   "metadata": {},
   "outputs": [
    {
     "name": "stdout",
     "output_type": "stream",
     "text": [
      "2023-04-19 12:22:27.779732\n"
     ]
    }
   ],
   "source": [
    "now = datetime.datetime.now()\n",
    "print(now) "
   ]
  },
  {
   "cell_type": "markdown",
   "id": "e46bc8d3",
   "metadata": {},
   "source": [
    "#### datetime.timedelta(days=0, seconds=0, microseconds=0, milliseconds=0, minutes=0, hours=0, weeks=0): This class represents a duration of time and can be used to perform arithmetic on dates and times. Here's an example:"
   ]
  },
  {
   "cell_type": "code",
   "execution_count": 5,
   "id": "d7c4efe3",
   "metadata": {},
   "outputs": [
    {
     "name": "stdout",
     "output_type": "stream",
     "text": [
      "6\n"
     ]
    }
   ],
   "source": [
    "d1 = datetime.date(2023, 4, 19)\n",
    "d2 = datetime.date(2023, 4, 25)\n",
    "delta = d2 - d1\n",
    "print(delta.days)"
   ]
  },
  {
   "cell_type": "markdown",
   "id": "fb81a563",
   "metadata": {},
   "source": [
    "#### 5datetime.time(hour=0, minute=0, second=0, microsecond=0): This class represents a time (hour, minute, second, microsecond) and provides methods for working with times. Here's an example:"
   ]
  },
  {
   "cell_type": "code",
   "execution_count": 6,
   "id": "c63a537b",
   "metadata": {},
   "outputs": [
    {
     "name": "stdout",
     "output_type": "stream",
     "text": [
      "15\n",
      "30\n",
      "0\n"
     ]
    }
   ],
   "source": [
    "t = datetime.time(15, 30, 0)\n",
    "print(t.hour)    # Output: 15\n",
    "print(t.minute)  # Output: 30\n",
    "print(t.second)  # Output: 0\n"
   ]
  },
  {
   "cell_type": "markdown",
   "id": "2bf40c30",
   "metadata": {},
   "source": [
    "#### 6.datetime.datetime.strptime(date_string, format): This method creates a datetime object from a string representing a date and time, using a specified format. Here's an example:"
   ]
  },
  {
   "cell_type": "code",
   "execution_count": 7,
   "id": "3fa76c8c",
   "metadata": {},
   "outputs": [
    {
     "name": "stdout",
     "output_type": "stream",
     "text": [
      "2023-04-19 15:30:00\n"
     ]
    }
   ],
   "source": [
    "date_string = \"2023-04-19 15:30:00\"\n",
    "dt = datetime.datetime.strptime(date_string, '%Y-%m-%d %H:%M:%S')\n",
    "print(dt) # Output: 2023-04-19 15:30:00"
   ]
  },
  {
   "cell_type": "markdown",
   "id": "0ecbe6fb",
   "metadata": {},
   "source": [
    "#### 7.datetime.datetime.strftime(format): This method returns a string representing a date and time, using a specified format. Here's an example:"
   ]
  },
  {
   "cell_type": "code",
   "execution_count": 9,
   "id": "776d22f8",
   "metadata": {},
   "outputs": [
    {
     "name": "stdout",
     "output_type": "stream",
     "text": [
      "2023-04-19 15:30:00\n"
     ]
    }
   ],
   "source": [
    "dt = datetime.datetime(2023, 4, 19, 15, 30, 0)\n",
    "date_string = dt.strftime('%Y-%m-%d %H:%M:%S')\n",
    "print(date_string) # Output: 2023-04-19 15:30:00\n"
   ]
  },
  {
   "cell_type": "markdown",
   "id": "82533152",
   "metadata": {},
   "source": [
    "#### 8.datetime.datetime.fromtimestamp(timestamp): This method creates a datetime object from a Unix timestamp (the number of seconds since January 1, 1970, 00:00:00 UTC). Here's an example:\n"
   ]
  },
  {
   "cell_type": "code",
   "execution_count": 10,
   "id": "168138c9",
   "metadata": {},
   "outputs": [
    {
     "name": "stdout",
     "output_type": "stream",
     "text": [
      "2022-04-21 00:00:00\n"
     ]
    }
   ],
   "source": [
    "timestamp = 1650479400  # April 19, 2022, 15:30:00 UTC\n",
    "dt = datetime.datetime.fromtimestamp(timestamp)\n",
    "print(dt) # Output: 2022-04-19 15:30:00"
   ]
  },
  {
   "cell_type": "code",
   "execution_count": null,
   "id": "79044b4b",
   "metadata": {},
   "outputs": [],
   "source": []
  },
  {
   "cell_type": "code",
   "execution_count": null,
   "id": "a858d016",
   "metadata": {},
   "outputs": [],
   "source": []
  },
  {
   "cell_type": "code",
   "execution_count": null,
   "id": "51cd6472",
   "metadata": {},
   "outputs": [],
   "source": []
  },
  {
   "cell_type": "code",
   "execution_count": null,
   "id": "4d5db221",
   "metadata": {},
   "outputs": [],
   "source": []
  },
  {
   "cell_type": "code",
   "execution_count": null,
   "id": "bdcee252",
   "metadata": {},
   "outputs": [],
   "source": []
  },
  {
   "cell_type": "code",
   "execution_count": null,
   "id": "18f03d54",
   "metadata": {},
   "outputs": [],
   "source": []
  },
  {
   "cell_type": "code",
   "execution_count": null,
   "id": "3b0d1b7d",
   "metadata": {},
   "outputs": [],
   "source": []
  },
  {
   "cell_type": "code",
   "execution_count": null,
   "id": "a69e8563",
   "metadata": {},
   "outputs": [],
   "source": []
  }
 ],
 "metadata": {
  "kernelspec": {
   "display_name": "Python 3 (ipykernel)",
   "language": "python",
   "name": "python3"
  },
  "language_info": {
   "codemirror_mode": {
    "name": "ipython",
    "version": 3
   },
   "file_extension": ".py",
   "mimetype": "text/x-python",
   "name": "python",
   "nbconvert_exporter": "python",
   "pygments_lexer": "ipython3",
   "version": "3.9.12"
  }
 },
 "nbformat": 4,
 "nbformat_minor": 5
}
